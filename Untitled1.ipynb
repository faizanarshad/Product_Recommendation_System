{
 "cells": [
  {
   "cell_type": "code",
   "execution_count": 2,
   "id": "cb7e000a",
   "metadata": {},
   "outputs": [
    {
     "ename": "AttributeError",
     "evalue": "'numpy.ndarray' object has no attribute 'index'",
     "output_type": "error",
     "traceback": [
      "\u001b[0;31m---------------------------------------------------------------------------\u001b[0m",
      "\u001b[0;31mAttributeError\u001b[0m                            Traceback (most recent call last)",
      "\u001b[0;32m/var/folders/s3/p7xnhr0s0qj57717dphgxd440000gp/T/ipykernel_31390/1019049430.py\u001b[0m in \u001b[0;36m<module>\u001b[0;34m\u001b[0m\n\u001b[1;32m     17\u001b[0m \u001b[0;31m# Step 3: Calculate cosine similarity\u001b[0m\u001b[0;34m\u001b[0m\u001b[0;34m\u001b[0m\u001b[0m\n\u001b[1;32m     18\u001b[0m \u001b[0mitem_similarity\u001b[0m \u001b[0;34m=\u001b[0m \u001b[0mcosine_similarity\u001b[0m\u001b[0;34m(\u001b[0m\u001b[0mitem_user_matrix\u001b[0m\u001b[0;34m)\u001b[0m\u001b[0;34m\u001b[0m\u001b[0;34m\u001b[0m\u001b[0m\n\u001b[0;32m---> 19\u001b[0;31m \u001b[0mitem_similarity_df\u001b[0m \u001b[0;34m=\u001b[0m \u001b[0mpd\u001b[0m\u001b[0;34m.\u001b[0m\u001b[0mDataFrame\u001b[0m\u001b[0;34m(\u001b[0m\u001b[0mitem_similarity\u001b[0m\u001b[0;34m,\u001b[0m \u001b[0mindex\u001b[0m\u001b[0;34m=\u001b[0m\u001b[0mitem_user_matrix\u001b[0m\u001b[0;34m.\u001b[0m\u001b[0mindex\u001b[0m\u001b[0;34m,\u001b[0m \u001b[0mcolumns\u001b[0m\u001b[0;34m=\u001b[0m\u001b[0mitem_user_matrix\u001b[0m\u001b[0;34m.\u001b[0m\u001b[0mindex\u001b[0m\u001b[0;34m)\u001b[0m\u001b[0;34m\u001b[0m\u001b[0;34m\u001b[0m\u001b[0m\n\u001b[0m\u001b[1;32m     20\u001b[0m \u001b[0;34m\u001b[0m\u001b[0m\n\u001b[1;32m     21\u001b[0m \u001b[0;31m# Step 4: Feature engineering - Process text data for 'Review Text'\u001b[0m\u001b[0;34m\u001b[0m\u001b[0;34m\u001b[0m\u001b[0m\n",
      "\u001b[0;31mAttributeError\u001b[0m: 'numpy.ndarray' object has no attribute 'index'"
     ]
    }
   ],
   "source": [
    "import pandas as pd\n",
    "import numpy as np\n",
    "from sklearn.feature_extraction.text import CountVectorizer\n",
    "from sklearn.metrics.pairwise import cosine_similarity\n",
    "\n",
    "# Step 1: Load and preprocess the dataset\n",
    "data = pd.read_csv('cleaned_data.csv')\n",
    "data = data[['Clothing ID', 'Age', 'Recommended IND', 'Review Text', 'Rating']]\n",
    "data.dropna(subset=['Review Text'], inplace=True)\n",
    "data.reset_index(drop=True, inplace=True)\n",
    "data['Review Text'] = data['Review Text'].str.lower()\n",
    "\n",
    "# Step 2: Create the item-user matrix\n",
    "item_user_matrix = data.pivot_table(index='Clothing ID', columns='Age', values='Rating', fill_value=0)\n",
    "item_user_matrix = item_user_matrix.to_numpy()"
   ]
  },
  {
   "cell_type": "code",
   "execution_count": null,
   "id": "36b56676",
   "metadata": {},
   "outputs": [],
   "source": [
    "# Step 3: Calculate cosine similarity\n",
    "item_similarity = cosine_similarity(item_user_matrix)\n",
    "item_similarity_df = pd.DataFrame(item_similarity, index=item_user_matrix.index, columns=item_user_matrix.index"
   ]
  },
  {
   "cell_type": "code",
   "execution_count": null,
   "id": "14a78486",
   "metadata": {},
   "outputs": [],
   "source": [
    "# Step 4: Feature engineering - Process text data for 'Review Text'\n",
    "vectorizer = CountVectorizer(stop_words='english')\n",
    "review_matrix = vectorizer.fit_transform(data['Review Text'])\n",
    "review_similarity = cosine_similarity(review_matrix)\n",
    "review_similarity_df = pd.DataFrame(review_similarity, index=data.index, columns=data.index)"
   ]
  },
  {
   "cell_type": "code",
   "execution_count": null,
   "id": "727b8109",
   "metadata": {},
   "outputs": [],
   "source": [
    "# Step 5: Combine the similarity matrices using weighted average (you can adjust the weights as needed)\n",
    "alpha = 0.7\n",
    "combined_similarity = alpha * item_similarity_df + (1 - alpha) * review_similarity_df\n",
    "\n",
    "# Step 6: Define the recommendation function\n",
    "def get_recommendations(clothing_id, top_n=5):\n",
    "    # Get the combined similarity scores for the given clothing_id\n",
    "    sim_scores = combined_similarity[clothing_id]\n",
    "\n",
    "    # Get the top_n most similar clothing items\n",
    "    top_items = sim_scores.nlargest(top_n + 1).drop(clothing_id)\n",
    "    \n",
    "    # Get the clothing details for the top items\n",
    "    recommended_items = data[data['Clothing ID'].isin(top_items.index)]\n",
    "\n",
    "    return recommended_items"
   ]
  },
  {
   "cell_type": "code",
   "execution_count": null,
   "id": "47b999cb",
   "metadata": {},
   "outputs": [],
   "source": [
    "\n",
    "\n",
    "# Step 7: Get recommendations for a specific item and save to a CSV file\n",
    "def save_recommendations_to_csv(clothing_id, top_n=5, file_path='recommendations.csv'):\n",
    "    # Get the combined similarity scores for the given clothing_id\n",
    "    sim_scores = combined_similarity[clothing_id]\n",
    "\n",
    "    # Get the top_n most similar clothing items\n",
    "    top_items = sim_scores.nlargest(top_n + 1).drop(clothing_id)\n",
    "    \n",
    "    # Get the clothing details for the top items\n",
    "    recommended_items = data[data['Clothing ID'].isin(top_items.index)]\n",
    "    \n",
    "    # Save the recommendations to a new CSV file\n",
    "    recommended_items.to_csv(file_path, index=False)\n",
    "\n",
    "# Get recommendations for a specific clothing item (e.g., Clothing ID 123) and save to CSV\n",
    "clothing_id = 123  # Replace with the desired clothing ID\n",
    "save_recommendations_to_csv(clothing_id, top_n=5, file_path='recommendations.csv')"
   ]
  },
  {
   "cell_type": "code",
   "execution_count": null,
   "id": "e3bc3112",
   "metadata": {},
   "outputs": [],
   "source": []
  }
 ],
 "metadata": {
  "kernelspec": {
   "display_name": "Python 3 (ipykernel)",
   "language": "python",
   "name": "python3"
  },
  "language_info": {
   "codemirror_mode": {
    "name": "ipython",
    "version": 3
   },
   "file_extension": ".py",
   "mimetype": "text/x-python",
   "name": "python",
   "nbconvert_exporter": "python",
   "pygments_lexer": "ipython3",
   "version": "3.9.13"
  }
 },
 "nbformat": 4,
 "nbformat_minor": 5
}
