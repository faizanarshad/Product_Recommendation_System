{
 "cells": [
  {
   "cell_type": "code",
   "execution_count": 1,
   "id": "1c85d8d3",
   "metadata": {},
   "outputs": [
    {
     "name": "stdout",
     "output_type": "stream",
     "text": [
      "Requirement already satisfied: pandas in /Users/faizanarshad/opt/anaconda3/lib/python3.9/site-packages (1.4.4)\n",
      "Requirement already satisfied: python-dateutil>=2.8.1 in /Users/faizanarshad/opt/anaconda3/lib/python3.9/site-packages (from pandas) (2.8.2)\n",
      "Requirement already satisfied: pytz>=2020.1 in /Users/faizanarshad/opt/anaconda3/lib/python3.9/site-packages (from pandas) (2022.1)\n",
      "Requirement already satisfied: numpy>=1.18.5 in /Users/faizanarshad/opt/anaconda3/lib/python3.9/site-packages (from pandas) (1.24.3)\n",
      "Requirement already satisfied: six>=1.5 in /Users/faizanarshad/opt/anaconda3/lib/python3.9/site-packages (from python-dateutil>=2.8.1->pandas) (1.16.0)\n",
      "Note: you may need to restart the kernel to use updated packages.\n"
     ]
    }
   ],
   "source": [
    "pip install pandas\n"
   ]
  },
  {
   "cell_type": "code",
   "execution_count": 2,
   "id": "0fb70ef5",
   "metadata": {},
   "outputs": [
    {
     "name": "stdout",
     "output_type": "stream",
     "text": [
      "Requirement already satisfied: numpy in /Users/faizanarshad/opt/anaconda3/lib/python3.9/site-packages (1.24.3)\n",
      "Note: you may need to restart the kernel to use updated packages.\n"
     ]
    }
   ],
   "source": [
    "pip install numpy\n"
   ]
  },
  {
   "cell_type": "code",
   "execution_count": 3,
   "id": "319cadf5",
   "metadata": {},
   "outputs": [
    {
     "name": "stdout",
     "output_type": "stream",
     "text": [
      "Requirement already satisfied: scikit-learn in /Users/faizanarshad/opt/anaconda3/lib/python3.9/site-packages (1.0.2)\n",
      "Requirement already satisfied: joblib>=0.11 in /Users/faizanarshad/opt/anaconda3/lib/python3.9/site-packages (from scikit-learn) (1.1.0)\n",
      "Requirement already satisfied: numpy>=1.14.6 in /Users/faizanarshad/opt/anaconda3/lib/python3.9/site-packages (from scikit-learn) (1.24.3)\n",
      "Requirement already satisfied: threadpoolctl>=2.0.0 in /Users/faizanarshad/opt/anaconda3/lib/python3.9/site-packages (from scikit-learn) (2.2.0)\n",
      "Requirement already satisfied: scipy>=1.1.0 in /Users/faizanarshad/opt/anaconda3/lib/python3.9/site-packages (from scikit-learn) (1.9.1)\n",
      "Note: you may need to restart the kernel to use updated packages.\n"
     ]
    }
   ],
   "source": [
    "pip install scikit-learn"
   ]
  },
  {
   "cell_type": "code",
   "execution_count": 4,
   "id": "7aeeffdb",
   "metadata": {},
   "outputs": [],
   "source": [
    "import pandas as pd\n",
    "import numpy as np\n",
    "from sklearn.metrics.pairwise import cosine_similarity"
   ]
  },
  {
   "cell_type": "code",
   "execution_count": 6,
   "id": "bc6a1dd9",
   "metadata": {},
   "outputs": [],
   "source": [
    "# Load the dataset\n",
    "data = pd.read_csv('summer-products-with-rating-and-performance_2020-08.csv')"
   ]
  },
  {
   "cell_type": "code",
   "execution_count": 7,
   "id": "0bff5128",
   "metadata": {},
   "outputs": [
    {
     "data": {
      "text/html": [
       "<div>\n",
       "<style scoped>\n",
       "    .dataframe tbody tr th:only-of-type {\n",
       "        vertical-align: middle;\n",
       "    }\n",
       "\n",
       "    .dataframe tbody tr th {\n",
       "        vertical-align: top;\n",
       "    }\n",
       "\n",
       "    .dataframe thead th {\n",
       "        text-align: right;\n",
       "    }\n",
       "</style>\n",
       "<table border=\"1\" class=\"dataframe\">\n",
       "  <thead>\n",
       "    <tr style=\"text-align: right;\">\n",
       "      <th></th>\n",
       "      <th>index</th>\n",
       "      <th>title</th>\n",
       "      <th>title_orig</th>\n",
       "      <th>price</th>\n",
       "      <th>retail_price</th>\n",
       "      <th>currency_buyer</th>\n",
       "      <th>units_sold</th>\n",
       "      <th>uses_ad_boosts</th>\n",
       "      <th>rating</th>\n",
       "      <th>rating_count</th>\n",
       "      <th>...</th>\n",
       "      <th>merchant_rating_count</th>\n",
       "      <th>merchant_rating</th>\n",
       "      <th>merchant_id</th>\n",
       "      <th>merchant_has_profile_picture</th>\n",
       "      <th>merchant_profile_picture</th>\n",
       "      <th>product_url</th>\n",
       "      <th>product_picture</th>\n",
       "      <th>product_id</th>\n",
       "      <th>theme</th>\n",
       "      <th>crawl_month</th>\n",
       "    </tr>\n",
       "  </thead>\n",
       "  <tbody>\n",
       "    <tr>\n",
       "      <th>0</th>\n",
       "      <td>0</td>\n",
       "      <td>2020 Summer Vintage Flamingo Print  Pajamas Se...</td>\n",
       "      <td>2020 Summer Vintage Flamingo Print  Pajamas Se...</td>\n",
       "      <td>16.00</td>\n",
       "      <td>14</td>\n",
       "      <td>EUR</td>\n",
       "      <td>100</td>\n",
       "      <td>0</td>\n",
       "      <td>3.76</td>\n",
       "      <td>54</td>\n",
       "      <td>...</td>\n",
       "      <td>568</td>\n",
       "      <td>4.128521</td>\n",
       "      <td>595097d6a26f6e070cb878d1</td>\n",
       "      <td>0</td>\n",
       "      <td>NaN</td>\n",
       "      <td>https://www.wish.com/c/5e9ae51d43d6a96e303acdb0</td>\n",
       "      <td>https://contestimg.wish.com/api/webimage/5e9ae...</td>\n",
       "      <td>5e9ae51d43d6a96e303acdb0</td>\n",
       "      <td>summer</td>\n",
       "      <td>2020-08</td>\n",
       "    </tr>\n",
       "    <tr>\n",
       "      <th>1</th>\n",
       "      <td>1</td>\n",
       "      <td>SSHOUSE Summer Casual Sleeveless Soirée Party ...</td>\n",
       "      <td>Women's Casual Summer Sleeveless Sexy Mini Dress</td>\n",
       "      <td>8.00</td>\n",
       "      <td>22</td>\n",
       "      <td>EUR</td>\n",
       "      <td>20000</td>\n",
       "      <td>1</td>\n",
       "      <td>3.45</td>\n",
       "      <td>6135</td>\n",
       "      <td>...</td>\n",
       "      <td>17752</td>\n",
       "      <td>3.899673</td>\n",
       "      <td>56458aa03a698c35c9050988</td>\n",
       "      <td>0</td>\n",
       "      <td>NaN</td>\n",
       "      <td>https://www.wish.com/c/58940d436a0d3d5da4e95a38</td>\n",
       "      <td>https://contestimg.wish.com/api/webimage/58940...</td>\n",
       "      <td>58940d436a0d3d5da4e95a38</td>\n",
       "      <td>summer</td>\n",
       "      <td>2020-08</td>\n",
       "    </tr>\n",
       "    <tr>\n",
       "      <th>2</th>\n",
       "      <td>2</td>\n",
       "      <td>2020 Nouvelle Arrivée Femmes Printemps et Été ...</td>\n",
       "      <td>2020 New Arrival Women Spring and Summer Beach...</td>\n",
       "      <td>8.00</td>\n",
       "      <td>43</td>\n",
       "      <td>EUR</td>\n",
       "      <td>100</td>\n",
       "      <td>0</td>\n",
       "      <td>3.57</td>\n",
       "      <td>14</td>\n",
       "      <td>...</td>\n",
       "      <td>295</td>\n",
       "      <td>3.989831</td>\n",
       "      <td>5d464a1ffdf7bc44ee933c65</td>\n",
       "      <td>0</td>\n",
       "      <td>NaN</td>\n",
       "      <td>https://www.wish.com/c/5ea10e2c617580260d55310a</td>\n",
       "      <td>https://contestimg.wish.com/api/webimage/5ea10...</td>\n",
       "      <td>5ea10e2c617580260d55310a</td>\n",
       "      <td>summer</td>\n",
       "      <td>2020-08</td>\n",
       "    </tr>\n",
       "    <tr>\n",
       "      <th>3</th>\n",
       "      <td>3</td>\n",
       "      <td>Hot Summer Cool T-shirt pour les femmes Mode T...</td>\n",
       "      <td>Hot Summer Cool T Shirt for Women Fashion Tops...</td>\n",
       "      <td>8.00</td>\n",
       "      <td>8</td>\n",
       "      <td>EUR</td>\n",
       "      <td>5000</td>\n",
       "      <td>1</td>\n",
       "      <td>4.03</td>\n",
       "      <td>579</td>\n",
       "      <td>...</td>\n",
       "      <td>23832</td>\n",
       "      <td>4.020435</td>\n",
       "      <td>58cfdefdacb37b556efdff7c</td>\n",
       "      <td>0</td>\n",
       "      <td>NaN</td>\n",
       "      <td>https://www.wish.com/c/5cedf17ad1d44c52c59e4aca</td>\n",
       "      <td>https://contestimg.wish.com/api/webimage/5cedf...</td>\n",
       "      <td>5cedf17ad1d44c52c59e4aca</td>\n",
       "      <td>summer</td>\n",
       "      <td>2020-08</td>\n",
       "    </tr>\n",
       "    <tr>\n",
       "      <th>4</th>\n",
       "      <td>4</td>\n",
       "      <td>Femmes Shorts d'été à lacets taille élastique ...</td>\n",
       "      <td>Women Summer Shorts Lace Up Elastic Waistband ...</td>\n",
       "      <td>2.72</td>\n",
       "      <td>3</td>\n",
       "      <td>EUR</td>\n",
       "      <td>100</td>\n",
       "      <td>1</td>\n",
       "      <td>3.10</td>\n",
       "      <td>20</td>\n",
       "      <td>...</td>\n",
       "      <td>14482</td>\n",
       "      <td>4.001588</td>\n",
       "      <td>5ab3b592c3911a095ad5dadb</td>\n",
       "      <td>0</td>\n",
       "      <td>NaN</td>\n",
       "      <td>https://www.wish.com/c/5ebf5819ebac372b070b0e70</td>\n",
       "      <td>https://contestimg.wish.com/api/webimage/5ebf5...</td>\n",
       "      <td>5ebf5819ebac372b070b0e70</td>\n",
       "      <td>summer</td>\n",
       "      <td>2020-08</td>\n",
       "    </tr>\n",
       "  </tbody>\n",
       "</table>\n",
       "<p>5 rows × 44 columns</p>\n",
       "</div>"
      ],
      "text/plain": [
       "   index                                              title  \\\n",
       "0      0  2020 Summer Vintage Flamingo Print  Pajamas Se...   \n",
       "1      1  SSHOUSE Summer Casual Sleeveless Soirée Party ...   \n",
       "2      2  2020 Nouvelle Arrivée Femmes Printemps et Été ...   \n",
       "3      3  Hot Summer Cool T-shirt pour les femmes Mode T...   \n",
       "4      4  Femmes Shorts d'été à lacets taille élastique ...   \n",
       "\n",
       "                                          title_orig  price  retail_price  \\\n",
       "0  2020 Summer Vintage Flamingo Print  Pajamas Se...  16.00            14   \n",
       "1   Women's Casual Summer Sleeveless Sexy Mini Dress   8.00            22   \n",
       "2  2020 New Arrival Women Spring and Summer Beach...   8.00            43   \n",
       "3  Hot Summer Cool T Shirt for Women Fashion Tops...   8.00             8   \n",
       "4  Women Summer Shorts Lace Up Elastic Waistband ...   2.72             3   \n",
       "\n",
       "  currency_buyer  units_sold  uses_ad_boosts  rating  rating_count  ...  \\\n",
       "0            EUR         100               0    3.76            54  ...   \n",
       "1            EUR       20000               1    3.45          6135  ...   \n",
       "2            EUR         100               0    3.57            14  ...   \n",
       "3            EUR        5000               1    4.03           579  ...   \n",
       "4            EUR         100               1    3.10            20  ...   \n",
       "\n",
       "   merchant_rating_count  merchant_rating               merchant_id  \\\n",
       "0                    568         4.128521  595097d6a26f6e070cb878d1   \n",
       "1                  17752         3.899673  56458aa03a698c35c9050988   \n",
       "2                    295         3.989831  5d464a1ffdf7bc44ee933c65   \n",
       "3                  23832         4.020435  58cfdefdacb37b556efdff7c   \n",
       "4                  14482         4.001588  5ab3b592c3911a095ad5dadb   \n",
       "\n",
       "   merchant_has_profile_picture  merchant_profile_picture  \\\n",
       "0                             0                       NaN   \n",
       "1                             0                       NaN   \n",
       "2                             0                       NaN   \n",
       "3                             0                       NaN   \n",
       "4                             0                       NaN   \n",
       "\n",
       "                                       product_url  \\\n",
       "0  https://www.wish.com/c/5e9ae51d43d6a96e303acdb0   \n",
       "1  https://www.wish.com/c/58940d436a0d3d5da4e95a38   \n",
       "2  https://www.wish.com/c/5ea10e2c617580260d55310a   \n",
       "3  https://www.wish.com/c/5cedf17ad1d44c52c59e4aca   \n",
       "4  https://www.wish.com/c/5ebf5819ebac372b070b0e70   \n",
       "\n",
       "                                     product_picture  \\\n",
       "0  https://contestimg.wish.com/api/webimage/5e9ae...   \n",
       "1  https://contestimg.wish.com/api/webimage/58940...   \n",
       "2  https://contestimg.wish.com/api/webimage/5ea10...   \n",
       "3  https://contestimg.wish.com/api/webimage/5cedf...   \n",
       "4  https://contestimg.wish.com/api/webimage/5ebf5...   \n",
       "\n",
       "                 product_id   theme crawl_month  \n",
       "0  5e9ae51d43d6a96e303acdb0  summer     2020-08  \n",
       "1  58940d436a0d3d5da4e95a38  summer     2020-08  \n",
       "2  5ea10e2c617580260d55310a  summer     2020-08  \n",
       "3  5cedf17ad1d44c52c59e4aca  summer     2020-08  \n",
       "4  5ebf5819ebac372b070b0e70  summer     2020-08  \n",
       "\n",
       "[5 rows x 44 columns]"
      ]
     },
     "execution_count": 7,
     "metadata": {},
     "output_type": "execute_result"
    }
   ],
   "source": [
    "data.head()"
   ]
  },
  {
   "cell_type": "code",
   "execution_count": 10,
   "id": "629d455d",
   "metadata": {},
   "outputs": [],
   "source": [
    "user_item_data = data[['merchant_id', 'rating', 'units_sold']]"
   ]
  },
  {
   "cell_type": "code",
   "execution_count": 13,
   "id": "0f69c33a",
   "metadata": {},
   "outputs": [],
   "source": [
    "# Select the relevant columns for collaborative filtering\n",
    "user_item_data = data[['merchant_id', 'rating', 'units_sold']]"
   ]
  },
  {
   "cell_type": "code",
   "execution_count": 15,
   "id": "7c804e9c",
   "metadata": {},
   "outputs": [],
   "source": [
    "user_item_data = data[['merchant_id', 'rating', 'units_sold']].copy()\n",
    "\n",
    "# Drop rows with missing values\n",
    "user_item_data.dropna(inplace=True)\n"
   ]
  },
  {
   "cell_type": "code",
   "execution_count": 17,
   "id": "035fb962",
   "metadata": {},
   "outputs": [],
   "source": [
    "pivot_data = user_item_data.pivot_table(index='merchant_id', columns='units_sold', values='rating', aggfunc='mean')\n"
   ]
  },
  {
   "cell_type": "code",
   "execution_count": 18,
   "id": "890ff4a9",
   "metadata": {},
   "outputs": [],
   "source": [
    "# Fill missing values with 0\n",
    "pivot_data.fillna(0, inplace=True)"
   ]
  },
  {
   "cell_type": "code",
   "execution_count": 20,
   "id": "8d2d0f39",
   "metadata": {},
   "outputs": [],
   "source": [
    "# Calculate the cosine similarity matrix\n",
    "similarity_matrix = cosine_similarity(pivot_data)"
   ]
  },
  {
   "cell_type": "code",
   "execution_count": 22,
   "id": "b845731e",
   "metadata": {},
   "outputs": [
    {
     "name": "stdout",
     "output_type": "stream",
     "text": [
      "units_sold\n",
      "1         0.00\n",
      "2         0.00\n",
      "3         0.00\n",
      "6         0.00\n",
      "7         0.00\n",
      "8         0.00\n",
      "10        0.00\n",
      "50        0.00\n",
      "100       3.78\n",
      "1000      0.00\n",
      "5000      0.00\n",
      "10000     0.00\n",
      "20000     0.00\n",
      "50000     0.00\n",
      "100000    0.00\n",
      "dtype: float64\n"
     ]
    }
   ],
   "source": [
    "def get_recommendations(merchant_id, top_n=5):\n",
    "    # Find the index of the target merchant\n",
    "    target_merchant_index = pivot_data.index.get_loc(merchant_id)\n",
    "    \n",
    "    # Get the similarity scores for the target merchant\n",
    "    target_merchant_similarities = similarity_matrix[target_merchant_index]\n",
    "    \n",
    "    # Sort the similarity scores in descending order\n",
    "    most_similar_merchants_indices = np.argsort(target_merchant_similarities)[::-1]\n",
    "    \n",
    "    # Exclude the target merchant from the similar merchants list\n",
    "    most_similar_merchants_indices = np.delete(most_similar_merchants_indices, 0)\n",
    "    \n",
    "    # Get the top-N recommendations\n",
    "    recommendations = pivot_data.iloc[most_similar_merchants_indices[:top_n], :].mean(axis=0)\n",
    "    \n",
    "    return recommendations\n",
    "\n",
    "# Example usage:\n",
    "merchant_id = '595097d6a26f6e070cb878d1'\n",
    "recommendations = get_recommendations(merchant_id)\n",
    "print(recommendations)"
   ]
  },
  {
   "cell_type": "code",
   "execution_count": null,
   "id": "3cafb100",
   "metadata": {},
   "outputs": [],
   "source": []
  }
 ],
 "metadata": {
  "kernelspec": {
   "display_name": "Python 3 (ipykernel)",
   "language": "python",
   "name": "python3"
  },
  "language_info": {
   "codemirror_mode": {
    "name": "ipython",
    "version": 3
   },
   "file_extension": ".py",
   "mimetype": "text/x-python",
   "name": "python",
   "nbconvert_exporter": "python",
   "pygments_lexer": "ipython3",
   "version": "3.9.13"
  }
 },
 "nbformat": 4,
 "nbformat_minor": 5
}
