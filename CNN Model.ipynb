{
 "cells": [
  {
   "cell_type": "code",
   "execution_count": 23,
   "id": "8016bab9",
   "metadata": {},
   "outputs": [],
   "source": [
    "import pandas as pd\n",
    "import numpy as np\n",
    "from sklearn.model_selection import train_test_split\n",
    "from tensorflow.keras.preprocessing.text import Tokenizer\n",
    "from tensorflow.keras.preprocessing.sequence import pad_sequences\n",
    "from tensorflow.keras.models import Sequential\n",
    "from tensorflow.keras.layers import Embedding, Conv1D, GlobalMaxPooling1D, Dense"
   ]
  },
  {
   "cell_type": "code",
   "execution_count": 24,
   "id": "abfa1143",
   "metadata": {},
   "outputs": [],
   "source": [
    "data = pd.read_csv('Womens Clothing E-Commerce Reviews.csv')"
   ]
  },
  {
   "cell_type": "code",
   "execution_count": 25,
   "id": "a1cf6b13",
   "metadata": {},
   "outputs": [],
   "source": [
    "# Preprocess data\n",
    "data = data[['Clothing ID', 'Title', 'Review Text','Rating']]\n",
    "data = data.dropna(subset=['Review Text'])\n",
    "\n",
    "# Split data into training and testing sets\n",
    "X = data[['Title', 'Review Text']]\n",
    "y = data['Rating']\n",
    "X_train, X_test, y_train, y_test = train_test_split(X, y, test_size=0.2, random_state=42)"
   ]
  },
  {
   "cell_type": "code",
   "execution_count": 26,
   "id": "4f3cc836",
   "metadata": {},
   "outputs": [],
   "source": [
    "# Tokenize text data\n",
    "max_words = 10000\n",
    "tokenizer = Tokenizer(num_words=max_words)\n",
    "tokenizer.fit_on_texts(X_train['Review Text'])\n",
    "X_train_sequences = tokenizer.texts_to_sequences(X_train['Review Text'])\n",
    "X_test_sequences = tokenizer.texts_to_sequences(X_test['Review Text'])"
   ]
  },
  {
   "cell_type": "code",
   "execution_count": 27,
   "id": "f84e8205",
   "metadata": {},
   "outputs": [],
   "source": [
    "# Pad sequences\n",
    "max_sequence_length = 100\n",
    "X_train_padded = pad_sequences(X_train_sequences, maxlen=max_sequence_length)\n",
    "X_test_padded = pad_sequences(X_test_sequences, maxlen=max_sequence_length)"
   ]
  },
  {
   "cell_type": "code",
   "execution_count": 28,
   "id": "3bb5883c",
   "metadata": {},
   "outputs": [],
   "source": [
    "# Build CNN model\n",
    "embedding_dim = 100\n",
    "num_filters = 128\n",
    "filter_sizes = [3, 4, 5]\n",
    "\n",
    "model = Sequential()\n",
    "model.add(Embedding(max_words, embedding_dim, input_length=max_sequence_length))\n",
    "model.add(Conv1D(num_filters, 3, activation='relu'))\n",
    "model.add(GlobalMaxPooling1D())\n",
    "model.add(Dense(128, activation='relu'))\n",
    "model.add(Dense(1))"
   ]
  },
  {
   "cell_type": "code",
   "execution_count": 29,
   "id": "cec533ee",
   "metadata": {},
   "outputs": [
    {
     "name": "stdout",
     "output_type": "stream",
     "text": [
      "Epoch 1/10\n",
      "566/566 [==============================] - 9s 15ms/step - loss: 1.3163\n",
      "Epoch 2/10\n",
      "566/566 [==============================] - 8s 14ms/step - loss: 0.4947\n",
      "Epoch 3/10\n",
      "566/566 [==============================] - 10s 17ms/step - loss: 0.3280\n",
      "Epoch 4/10\n",
      "566/566 [==============================] - 8s 14ms/step - loss: 0.1939\n",
      "Epoch 5/10\n",
      "566/566 [==============================] - 8s 14ms/step - loss: 0.1215\n",
      "Epoch 6/10\n",
      "566/566 [==============================] - 8s 14ms/step - loss: 0.0855\n",
      "Epoch 7/10\n",
      "566/566 [==============================] - 8s 15ms/step - loss: 0.0717\n",
      "Epoch 8/10\n",
      "566/566 [==============================] - 9s 15ms/step - loss: 0.0672\n",
      "Epoch 9/10\n",
      "566/566 [==============================] - 8s 15ms/step - loss: 0.0604\n",
      "Epoch 10/10\n",
      "566/566 [==============================] - 9s 15ms/step - loss: 0.0515\n"
     ]
    },
    {
     "data": {
      "text/plain": [
       "<keras.src.callbacks.History at 0x7f9bb2d5c9d0>"
      ]
     },
     "execution_count": 29,
     "metadata": {},
     "output_type": "execute_result"
    }
   ],
   "source": [
    "# Compile and train the model\n",
    "model.compile(optimizer='adam', loss='mse')\n",
    "model.fit(X_train_padded, y_train, epochs=10, batch_size=32)"
   ]
  },
  {
   "cell_type": "code",
   "execution_count": 30,
   "id": "7e182e24",
   "metadata": {},
   "outputs": [
    {
     "name": "stdout",
     "output_type": "stream",
     "text": [
      "1/1 [==============================] - 0s 71ms/step\n",
      "Recommended Items: [767]\n"
     ]
    }
   ],
   "source": [
    "# Generate recommendations\n",
    "def recommend_items(item_id, top_n=5):\n",
    "    item_sequence = tokenizer.texts_to_sequences([str(item_id)])  # Convert item_id to a string\n",
    "    item_padded = pad_sequences(item_sequence, maxlen=max_sequence_length)\n",
    "    rating_predictions = model.predict(item_padded)\n",
    "    top_indices = np.argsort(rating_predictions, axis=1)[:, -top_n:]  # Get indices of top N predicted ratings\n",
    "    recommended_items = [data['Clothing ID'].iloc[idx[0]] for idx in top_indices]  # Get the corresponding item IDs\n",
    "    return recommended_items\n",
    "\n",
    "# Example recommendation\n",
    "item_id = 2  # Example item ID\n",
    "recommended_items = recommend_items(item_id, top_n=5)\n",
    "print(\"Recommended Items:\", recommended_items)"
   ]
  },
  {
   "cell_type": "code",
   "execution_count": 15,
   "id": "c490a7c0",
   "metadata": {},
   "outputs": [
    {
     "name": "stdout",
     "output_type": "stream",
     "text": [
      "142/142 [==============================] - 0s 3ms/step - loss: 0.5718\n",
      "Test Loss: 0.571751058101654\n"
     ]
    }
   ],
   "source": [
    "# Evaluate the model\n",
    "loss = model.evaluate(X_test_padded, y_test)\n",
    "print(\"Test Loss:\", loss)"
   ]
  },
  {
   "cell_type": "code",
   "execution_count": 11,
   "id": "4148c292",
   "metadata": {},
   "outputs": [
    {
     "name": "stdout",
     "output_type": "stream",
     "text": [
      "1/1 [==============================] - 0s 17ms/step\n",
      "[[2.8542988]]\n"
     ]
    }
   ],
   "source": [
    "item_id = 22  # Example item ID\n",
    "recommended_items = recommend_items(item_id)\n",
    "print(recommended_items)"
   ]
  },
  {
   "cell_type": "code",
   "execution_count": 31,
   "id": "e5f01cbf",
   "metadata": {},
   "outputs": [
    {
     "name": "stdout",
     "output_type": "stream",
     "text": [
      "Epoch 1/10\n",
      "566/566 [==============================] - 10s 17ms/step - loss: 1.3712\n",
      "Epoch 2/10\n",
      "566/566 [==============================] - 8s 14ms/step - loss: 0.5284\n",
      "Epoch 3/10\n",
      "566/566 [==============================] - 8s 14ms/step - loss: 0.3709\n",
      "Epoch 4/10\n",
      "566/566 [==============================] - 11s 20ms/step - loss: 0.2569\n",
      "Epoch 5/10\n",
      "566/566 [==============================] - 10s 18ms/step - loss: 0.1811\n",
      "Epoch 6/10\n",
      "566/566 [==============================] - 9s 15ms/step - loss: 0.1292\n",
      "Epoch 7/10\n",
      "566/566 [==============================] - 8s 15ms/step - loss: 0.0944\n",
      "Epoch 8/10\n",
      "566/566 [==============================] - 8s 15ms/step - loss: 0.0748\n",
      "Epoch 9/10\n",
      "566/566 [==============================] - 8s 15ms/step - loss: 0.0670\n",
      "Epoch 10/10\n",
      "566/566 [==============================] - 8s 15ms/step - loss: 0.0620\n",
      "142/142 [==============================] - 1s 4ms/step - loss: 0.6146\n",
      "Test Loss: 0.6146034002304077\n",
      "1/1 [==============================] - 0s 56ms/step\n",
      "Rating Prediction: 4.252463\n"
     ]
    }
   ],
   "source": [
    "import numpy as np\n",
    "from sklearn.model_selection import train_test_split\n",
    "from tensorflow.keras.preprocessing.text import Tokenizer\n",
    "from tensorflow.keras.preprocessing.sequence import pad_sequences\n",
    "from tensorflow.keras.models import Sequential\n",
    "from tensorflow.keras.layers import Embedding, Conv1D, GlobalMaxPooling1D, Dense\n",
    "\n",
    "# Preprocess data\n",
    "data = data[['Clothing ID', 'Title', 'Review Text', 'Rating']]\n",
    "data = data.dropna(subset=['Review Text'])\n",
    "\n",
    "# Split data into training and testing sets\n",
    "X = data[['Title', 'Review Text']]\n",
    "y = data['Rating']\n",
    "X_train, X_test, y_train, y_test = train_test_split(X, y, test_size=0.2, random_state=42)\n",
    "\n",
    "# Tokenize text data\n",
    "max_words = 10000\n",
    "tokenizer = Tokenizer(num_words=max_words)\n",
    "tokenizer.fit_on_texts(X_train['Review Text'])\n",
    "X_train_sequences = tokenizer.texts_to_sequences(X_train['Review Text'])\n",
    "X_test_sequences = tokenizer.texts_to_sequences(X_test['Review Text'])\n",
    "\n",
    "# Pad sequences\n",
    "max_sequence_length = 100\n",
    "X_train_padded = pad_sequences(X_train_sequences, maxlen=max_sequence_length)\n",
    "X_test_padded = pad_sequences(X_test_sequences, maxlen=max_sequence_length)\n",
    "\n",
    "# Build CNN model\n",
    "embedding_dim = 100\n",
    "num_filters = 128\n",
    "filter_sizes = [3, 4, 5]\n",
    "\n",
    "model = Sequential()\n",
    "model.add(Embedding(max_words, embedding_dim, input_length=max_sequence_length))\n",
    "model.add(Conv1D(num_filters, 3, activation='relu'))\n",
    "model.add(GlobalMaxPooling1D())\n",
    "model.add(Dense(128, activation='relu'))\n",
    "model.add(Dense(1))\n",
    "\n",
    "# Compile and train the model\n",
    "model.compile(optimizer='adam', loss='mse')\n",
    "model.fit(X_train_padded, y_train, epochs=10, batch_size=32)\n",
    "\n",
    "# Evaluate the model\n",
    "loss = model.evaluate(X_test_padded, y_test)\n",
    "print(\"Test Loss:\", loss)\n",
    "\n",
    "# Generate recommendations\n",
    "def recommend_items(item_text):\n",
    "    item_sequence = tokenizer.texts_to_sequences([item_text])\n",
    "    item_padded = pad_sequences(item_sequence, maxlen=max_sequence_length)\n",
    "    rating_prediction = model.predict(item_padded)[0][0]\n",
    "    return rating_prediction\n",
    "\n",
    "# Example recommendation\n",
    "item_text = \"This jacket is so adorable on! I have no idea why it has such a low rating. The quality is great, and it fits perfectly.\"\n",
    "rating_prediction = recommend_items(item_text)\n",
    "print(\"Rating Prediction:\", rating_prediction)\n"
   ]
  },
  {
   "cell_type": "code",
   "execution_count": 35,
   "id": "636e5b9c",
   "metadata": {},
   "outputs": [],
   "source": [
    "data = pd.read_csv('Womens Clothing E-Commerce Reviews.csv')"
   ]
  },
  {
   "cell_type": "code",
   "execution_count": 43,
   "id": "5550baa1",
   "metadata": {},
   "outputs": [
    {
     "data": {
      "text/plain": [
       "Clothing ID    0\n",
       "Title          0\n",
       "Review Text    0\n",
       "Rating         0\n",
       "dtype: int64"
      ]
     },
     "execution_count": 43,
     "metadata": {},
     "output_type": "execute_result"
    }
   ],
   "source": [
    "data.isnull().sum()"
   ]
  },
  {
   "cell_type": "code",
   "execution_count": 33,
   "id": "43df3ea1",
   "metadata": {},
   "outputs": [
    {
     "name": "stdout",
     "output_type": "stream",
     "text": [
      "1/1 [==============================] - 0s 17ms/step\n",
      "Recommended Item: 861\n"
     ]
    }
   ],
   "source": [
    "# Example recommendation\n",
    "item_id = 'Amazing soft top'  # Example item ID\n",
    "recommended_item = recommend_items(item_id)\n",
    "print(\"Recommended Item:\", recommended_item)"
   ]
  },
  {
   "cell_type": "code",
   "execution_count": 47,
   "id": "7c9c8a85",
   "metadata": {},
   "outputs": [
    {
     "name": "stdout",
     "output_type": "stream",
     "text": [
      "492/492 [==============================] - 10s 18ms/step - loss: 159895.7812\n",
      "123/123 [==============================] - 1s 4ms/step - loss: 31465.7500\n",
      "Test Loss: 31465.75\n",
      "WARNING:tensorflow:5 out of the last 16 calls to <function Model.make_predict_function.<locals>.predict_function at 0x7f9b9fab6dc0> triggered tf.function retracing. Tracing is expensive and the excessive number of tracings could be due to (1) creating @tf.function repeatedly in a loop, (2) passing tensors with different shapes, (3) passing Python objects instead of tensors. For (1), please define your @tf.function outside of the loop. For (2), @tf.function has reduce_retracing=True option that can avoid unnecessary retracing. For (3), please refer to https://www.tensorflow.org/guide/function#controlling_retracing and https://www.tensorflow.org/api_docs/python/tf/function for  more details.\n",
      "1/1 [==============================] - 0s 62ms/step\n",
      "Rating Prediction: [[598.0823]]\n"
     ]
    }
   ],
   "source": [
    "import numpy as np\n",
    "from sklearn.model_selection import train_test_split\n",
    "from tensorflow.keras.preprocessing.text import Tokenizer\n",
    "from tensorflow.keras.preprocessing.sequence import pad_sequences\n",
    "from tensorflow.keras.models import Sequential\n",
    "from tensorflow.keras.layers import Embedding, Conv1D, GlobalMaxPooling1D, Dense\n",
    "\n",
    "# Preprocess data\n",
    "data = data[['Clothing ID', 'Title', 'Review Text', 'Rating']]\n",
    "data = data.dropna(subset=['Review Text', 'Title'])\n",
    "\n",
    "# Split data into training and testing sets\n",
    "X = data[['Review Text', 'Rating']]\n",
    "y = data['Clothing ID']\n",
    "X_train, X_test, y_train, y_test = train_test_split(X, y, test_size=0.2, random_state=42)\n",
    "\n",
    "# Tokenize text data\n",
    "max_words = 10000\n",
    "tokenizer = Tokenizer(num_words=max_words)\n",
    "tokenizer.fit_on_texts(X_train['Review Text'])\n",
    "X_train_sequences = tokenizer.texts_to_sequences(X_train['Review Text'])\n",
    "X_test_sequences = tokenizer.texts_to_sequences(X_test['Review Text'])\n",
    "\n",
    "# Pad sequences\n",
    "max_sequence_length = 100\n",
    "X_train_padded = pad_sequences(X_train_sequences, maxlen=max_sequence_length)\n",
    "X_test_padded = pad_sequences(X_test_sequences, maxlen=max_sequence_length)\n",
    "\n",
    "# Build CNN model\n",
    "embedding_dim = 100\n",
    "num_filters = 128\n",
    "filter_sizes = [3, 4, 5]\n",
    "\n",
    "model = Sequential()\n",
    "model.add(Embedding(max_words, embedding_dim, input_length=max_sequence_length))\n",
    "model.add(Conv1D(num_filters, 3, activation='relu'))\n",
    "model.add(GlobalMaxPooling1D())\n",
    "model.add(Dense(128, activation='relu'))\n",
    "model.add(Dense(1))\n",
    "\n",
    "# Compile and train the model\n",
    "model.compile(optimizer='adam', loss='mse')\n",
    "model.fit(X_train_padded, y_train, epochs=1, batch_size=32)\n",
    "\n",
    "# Evaluate the model\n",
    "loss = model.evaluate(X_test_padded, y_test)\n",
    "print(\"Test Loss:\", loss)\n",
    "\n",
    "# Generate recommendations\n",
    "def recommend_items(item_id):\n",
    "    item_sequence = tokenizer.texts_to_sequences([item_id])\n",
    "    item_padded = pad_sequences(item_sequence, maxlen=max_sequence_length)\n",
    "    rating_prediction = model.predict(item_padded)\n",
    "    return rating_prediction\n",
    "\n",
    "# Example recommendation\n",
    "item_id = 'Amazing soft jacket'  # Example item ID\n",
    "rating_prediction = recommend_items(item_id)\n",
    "print(\"Rating Prediction:\", rating_prediction)\n"
   ]
  },
  {
   "cell_type": "code",
   "execution_count": 48,
   "id": "ec0c4b8e",
   "metadata": {},
   "outputs": [
    {
     "name": "stdout",
     "output_type": "stream",
     "text": [
      "492/492 [==============================] - 8s 15ms/step - loss: 1.3874\n",
      "WARNING:tensorflow:6 out of the last 17 calls to <function Model.make_predict_function.<locals>.predict_function at 0x7f9b9eefa940> triggered tf.function retracing. Tracing is expensive and the excessive number of tracings could be due to (1) creating @tf.function repeatedly in a loop, (2) passing tensors with different shapes, (3) passing Python objects instead of tensors. For (1), please define your @tf.function outside of the loop. For (2), @tf.function has reduce_retracing=True option that can avoid unnecessary retracing. For (3), please refer to https://www.tensorflow.org/guide/function#controlling_retracing and https://www.tensorflow.org/api_docs/python/tf/function for  more details.\n",
      "1/1 [==============================] - 0s 49ms/step\n",
      "Recommended Clothing Title: Please bring this shirt back!!!\n",
      "Rating Prediction: [[4.735408]]\n"
     ]
    }
   ],
   "source": [
    "import numpy as np\n",
    "from sklearn.model_selection import train_test_split\n",
    "from tensorflow.keras.preprocessing.text import Tokenizer\n",
    "from tensorflow.keras.preprocessing.sequence import pad_sequences\n",
    "from tensorflow.keras.models import Sequential\n",
    "from tensorflow.keras.layers import Embedding, Conv1D, GlobalMaxPooling1D, Dense\n",
    "\n",
    "# Preprocess data\n",
    "data = data[['Clothing ID', 'Title', 'Review Text', 'Rating']]\n",
    "data = data.dropna(subset=['Review Text', 'Title'])\n",
    "\n",
    "# Split data into training and testing sets\n",
    "X = data[['Title', 'Review Text']]\n",
    "y = data['Rating']\n",
    "X_train, X_test, y_train, y_test = train_test_split(X, y, test_size=0.2, random_state=42)\n",
    "\n",
    "# Tokenize and pad the text data\n",
    "max_words = 10000\n",
    "tokenizer = Tokenizer(num_words=max_words)\n",
    "tokenizer.fit_on_texts(X_train['Review Text'])\n",
    "X_train_sequences = tokenizer.texts_to_sequences(X_train['Review Text'])\n",
    "X_test_sequences = tokenizer.texts_to_sequences(X_test['Review Text'])\n",
    "max_sequence_length = 100\n",
    "X_train_padded = pad_sequences(X_train_sequences, maxlen=max_sequence_length)\n",
    "X_test_padded = pad_sequences(X_test_sequences, maxlen=max_sequence_length)\n",
    "\n",
    "# Build the CNN model\n",
    "embedding_dim = 100\n",
    "num_filters = 128\n",
    "\n",
    "model = Sequential()\n",
    "model.add(Embedding(max_words, embedding_dim, input_length=max_sequence_length))\n",
    "model.add(Conv1D(num_filters, 3, activation='relu'))\n",
    "model.add(GlobalMaxPooling1D())\n",
    "model.add(Dense(128, activation='relu'))\n",
    "model.add(Dense(1))\n",
    "\n",
    "# Compile and train the model\n",
    "model.compile(optimizer='adam', loss='mse')\n",
    "model.fit(X_train_padded, y_train, epochs=1, batch_size=32)\n",
    "\n",
    "# Generate recommendations for a selected clothing ID\n",
    "def recommend_items(clothing_id):\n",
    "    clothing_title = data[data['Clothing ID'] == clothing_id]['Title'].values[0]\n",
    "    clothing_review = data[data['Clothing ID'] == clothing_id]['Review Text'].values[0]\n",
    "    input_sequence = tokenizer.texts_to_sequences([clothing_review])\n",
    "    input_padded = pad_sequences(input_sequence, maxlen=max_sequence_length)\n",
    "    rating_prediction = model.predict(input_padded)\n",
    "    return clothing_title, rating_prediction\n",
    "\n",
    "# Example recommendation\n",
    "selected_clothing_id = 22\n",
    "clothing_title, rating_prediction = recommend_items(selected_clothing_id)\n",
    "print(\"Recommended Clothing Title:\", clothing_title)\n",
    "print(\"Rating Prediction:\", rating_prediction)\n"
   ]
  },
  {
   "cell_type": "code",
   "execution_count": null,
   "id": "f79e6c55",
   "metadata": {},
   "outputs": [],
   "source": []
  }
 ],
 "metadata": {
  "kernelspec": {
   "display_name": "Python 3 (ipykernel)",
   "language": "python",
   "name": "python3"
  },
  "language_info": {
   "codemirror_mode": {
    "name": "ipython",
    "version": 3
   },
   "file_extension": ".py",
   "mimetype": "text/x-python",
   "name": "python",
   "nbconvert_exporter": "python",
   "pygments_lexer": "ipython3",
   "version": "3.9.13"
  }
 },
 "nbformat": 4,
 "nbformat_minor": 5
}
